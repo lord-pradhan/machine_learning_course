{
 "cells": [
  {
   "cell_type": "code",
   "execution_count": 1,
   "metadata": {},
   "outputs": [],
   "source": [
    "import numpy as np"
   ]
  },
  {
   "cell_type": "code",
   "execution_count": 2,
   "metadata": {},
   "outputs": [
    {
     "name": "stdout",
     "output_type": "stream",
     "text": [
      "[[[ 5  0  3  3  7  9  3  5  2  4]\n",
      "  [ 7  6  8  8 10  1  6  7  7  8]\n",
      "  [ 1  5  9  8  9  4  3  0  3  5]\n",
      "  [ 0  2  3  8  1  3  3  3  7  0]\n",
      "  [ 1  9  9  0 10  4  7  3  2  7]\n",
      "  [ 2  0  0  4  5  5  6  8  4  1]\n",
      "  [ 4  9 10 10  8  1  1  7  9  9]\n",
      "  [ 3  6  7  2  0  3  5  9 10  4]\n",
      "  [ 4  6  4  4  3  4  4  8  4  3]\n",
      "  [10  7  5  5  0  1  5  9  3  0]\n",
      "  [ 5  0  1  2  4  2  0  3  2 10]\n",
      "  [ 0  7  5  9  0 10  2 10  7  2]]\n",
      "\n",
      " [[ 9  2  3  3  2  3  4  1  2  9]\n",
      "  [10  1  4 10  6  8  2  3  0  0]\n",
      "  [ 6  0  6  3 10  3  8  8  8  2]\n",
      "  [ 3  2  0  8  8  3  8 10  2  8]\n",
      "  [ 4  3  0  4  3  6  9  8  0  8]\n",
      "  [ 5  9  0  9  6  5  3  1  8  0]\n",
      "  [ 4  9  6  5  7  8  8  9  2  8]\n",
      "  [ 6  6  9  1  6  8  8  3  2  3]\n",
      "  [10  6  3  6  5  7  0  8  4 10]\n",
      "  [ 6  5  8  2  3  9  7  5  3  4]\n",
      "  [ 5  3  3  7  9  9  9  7  3 10]\n",
      "  [ 2  3  9 10  7  7  5  1  2  2]]\n",
      "\n",
      " [[ 8  1  5  8  4  0  2  5  5  0]\n",
      "  [ 8  1  1  0  3  8  8  4  4  0]\n",
      "  [ 9  3  7  3  2  1  1  2  1  4]\n",
      "  [ 2  5  5  5  2  5  7  7  6  1]\n",
      "  [ 6  7  2  3  1  9  5  9  9  2]\n",
      "  [ 0  9  1  9 10  0  6  0 10  4]\n",
      "  [ 8  4  3  3  8  8  7  0  3  8]\n",
      "  [ 7  7 10  1  8  4  7  0  4  9]\n",
      "  [ 0 10  6  4  2  4  6  3 10  3]\n",
      "  [ 7  8  5  0  8  5  4  7 10 10]\n",
      "  [ 4  1  3  3  9  2  5  2  3  5]\n",
      "  [10  7  2  7  1  6 10  5  0  0]]] \n",
      "\n",
      " (3, 12, 10)\n"
     ]
    }
   ],
   "source": [
    "# Question a\n",
    "np.random.seed(0)\n",
    "a=np.random.randint(11, size=(3,12, 10))\n",
    "print(a, '\\n\\n', a.shape)"
   ]
  },
  {
   "cell_type": "code",
   "execution_count": 3,
   "metadata": {},
   "outputs": [
    {
     "name": "stdout",
     "output_type": "stream",
     "text": [
      "[[[ 5  9  8  9  4  3  0  3]\n",
      "  [ 2  3  8  1  3  3  3  7]\n",
      "  [ 9  9  0 10  4  7  3  2]\n",
      "  [ 0  0  4  5  5  6  8  4]\n",
      "  [ 9 10 10  8  1  1  7  9]\n",
      "  [ 6  7  2  0  3  5  9 10]\n",
      "  [ 6  4  4  3  4  4  8  4]\n",
      "  [ 7  5  5  0  1  5  9  3]]\n",
      "\n",
      " [[ 0  6  3 10  3  8  8  8]\n",
      "  [ 2  0  8  8  3  8 10  2]\n",
      "  [ 3  0  4  3  6  9  8  0]\n",
      "  [ 9  0  9  6  5  3  1  8]\n",
      "  [ 9  6  5  7  8  8  9  2]\n",
      "  [ 6  9  1  6  8  8  3  2]\n",
      "  [ 6  3  6  5  7  0  8  4]\n",
      "  [ 5  8  2  3  9  7  5  3]]\n",
      "\n",
      " [[ 3  7  3  2  1  1  2  1]\n",
      "  [ 5  5  5  2  5  7  7  6]\n",
      "  [ 7  2  3  1  9  5  9  9]\n",
      "  [ 9  1  9 10  0  6  0 10]\n",
      "  [ 4  3  3  8  8  7  0  3]\n",
      "  [ 7 10  1  8  4  7  0  4]\n",
      "  [10  6  4  2  4  6  3 10]\n",
      "  [ 8  5  0  8  5  4  7 10]]] \n",
      "\n",
      " (3, 8, 8)\n"
     ]
    }
   ],
   "source": [
    "# Question b\n",
    "b = a[:,2:-2, 1:-1]\n",
    "print(b, '\\n\\n',b.shape)"
   ]
  },
  {
   "cell_type": "code",
   "execution_count": 4,
   "metadata": {},
   "outputs": [
    {
     "name": "stdout",
     "output_type": "stream",
     "text": [
      "[[44 47 41 36 25 34 47 42]\n",
      " [40 32 38 48 49 51 52 29]\n",
      " [53 39 28 41 36 43 28 53]] \n",
      "\n",
      " (3, 8)\n"
     ]
    }
   ],
   "source": [
    "# Question c\n",
    "c = np.sum(b, axis = 1)\n",
    "print(c,'\\n\\n', c.shape)"
   ]
  },
  {
   "cell_type": "code",
   "execution_count": 5,
   "metadata": {},
   "outputs": [
    {
     "name": "stdout",
     "output_type": "stream",
     "text": [
      "[ 5  9  8  9  4  3  0  3  2  3  8  1  3  3  3  7  9  9  0 10  4  7  3  2\n",
      "  0  0  4  5  5  6  8  4  9 10 10  8  1  1  7  9  6  7  2  0  3  5  9 10\n",
      "  6  4  4  3  4  4  8  4  7  5  5  0  1  5  9  3  0  6  3 10  3  8  8  8\n",
      "  2  0  8  8  3  8 10  2  3  0  4  3  6  9  8  0  9  0  9  6  5  3  1  8\n",
      "  9  6  5  7  8  8  9  2  6  9  1  6  8  8  3  2  6  3  6  5  7  0  8  4\n",
      "  5  8  2  3  9  7  5  3  3  7  3  2  1  1  2  1  5  5  5  2  5  7  7  6\n",
      "  7  2  3  1  9  5  9  9  9  1  9 10  0  6  0 10  4  3  3  8  8  7  0  3\n",
      "  7 10  1  8  4  7  0  4 10  6  4  2  4  6  3 10  8  5  0  8  5  4  7 10] \n",
      "\n",
      " (192,)\n"
     ]
    }
   ],
   "source": [
    "# Question d\n",
    "d = np.ndarray.flatten(b)\n",
    "print(d,'\\n\\n',d.shape)"
   ]
  },
  {
   "cell_type": "code",
   "execution_count": 6,
   "metadata": {},
   "outputs": [
    {
     "name": "stdout",
     "output_type": "stream",
     "text": [
      "For self-defined 7.1191501617 sec elapsed\n",
      "For inbuilt function 4.4536879063 sec elapsed\n"
     ]
    }
   ],
   "source": [
    "# Question e\n",
    "np.random.seed(0)\n",
    "e=np.random.randint(11, size=(1000,1000)) ; f=np.random.randint(11, size=(1000,1000))\n",
    "\n",
    "def matmul(in1, in2):\n",
    "    out = np.zeros(in1.shape)\n",
    "    for i in range(in1.shape[0]):\n",
    "        for j in range(in2.shape[1]):\n",
    "            out[i,j] = np.dot(in1[i,:], in2[:,j])\n",
    "    return out\n",
    "\n",
    "import time\n",
    "\n",
    "t = time.time()\n",
    "g = matmul(e,f)\n",
    "print('For self-defined', np.round_(time.time() - t, 10), 'sec elapsed')\n",
    "\n",
    "t1 = time.time()\n",
    "g = e@f\n",
    "print('For inbuilt function', np.round_(time.time() - t1, 10), 'sec elapsed')"
   ]
  },
  {
   "cell_type": "markdown",
   "metadata": {},
   "source": [
    "The inbuilt function is around 1.5x faster for the given matrix size. @ basically calls the inbuilt 'matmul' operator whereas the self-defined function here calls the 'dot' operator. Numpy documentation recommends using matmul since it is optimised for arrays of larger size."
   ]
  }
 ],
 "metadata": {
  "kernelspec": {
   "display_name": "Python 3",
   "language": "python",
   "name": "python3"
  },
  "language_info": {
   "codemirror_mode": {
    "name": "ipython",
    "version": 3
   },
   "file_extension": ".py",
   "mimetype": "text/x-python",
   "name": "python",
   "nbconvert_exporter": "python",
   "pygments_lexer": "ipython3",
   "version": "3.7.3"
  }
 },
 "nbformat": 4,
 "nbformat_minor": 2
}
