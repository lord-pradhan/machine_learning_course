{
 "cells": [
  {
   "cell_type": "code",
   "execution_count": 4,
   "metadata": {},
   "outputs": [
    {
     "name": "stdout",
     "output_type": "stream",
     "text": [
      "True\n",
      "False\n",
      "True\n",
      "False\n",
      "True\n"
     ]
    },
    {
     "data": {
      "text/plain": [
       "True"
      ]
     },
     "execution_count": 4,
     "metadata": {},
     "output_type": "execute_result"
    }
   ],
   "source": [
    "# Part a\n",
    "def includes(item, val, start_ind=None):\n",
    "    if start_ind == None:\n",
    "        if isinstance(item,dict):\n",
    "            print(val in item.values())\n",
    "            return val in item.values()\n",
    "        else:\n",
    "            print(val in item[0:len(item)-1])\n",
    "            return(val in item[0:len(item)-1])\n",
    "    else:\n",
    "        print(val in item[start_ind:len(item)-1])\n",
    "        return val in item[start_ind:len(item)-1]\n",
    "\n",
    "includes([1, 2, 3], 1) # True \n",
    "includes([1, 2, 3], 1, 2) # False \n",
    "includes({'a':1,'b':2}, 1) # True \n",
    "includes({'a':1,'b':2}, 'a') # False \n",
    "includes('abcd', 'b') # True            \n",
    "        "
   ]
  },
  {
   "cell_type": "code",
   "execution_count": 2,
   "metadata": {},
   "outputs": [
    {
     "name": "stdout",
     "output_type": "stream",
     "text": [
      "10.0\n",
      "10.5\n",
      "11.0\n"
     ]
    }
   ],
   "source": [
    "# Part b\n",
    "# without brackets\n",
    "\n",
    "import numpy as np\n",
    "\n",
    "def moving_average1(value,list_1=[]):\n",
    "    list_1.append(value)\n",
    "    return float(sum(list_1))/len(list_1)\n",
    "    \n",
    "mAvg1 = moving_average1\n",
    "print(mAvg1(10)) #10.0\n",
    "print(mAvg1(11)) #10.5\n",
    "print(mAvg1(12)) #11.0\n"
   ]
  },
  {
   "cell_type": "code",
   "execution_count": 7,
   "metadata": {},
   "outputs": [
    {
     "name": "stdout",
     "output_type": "stream",
     "text": [
      "10.0\n",
      "10.5\n",
      "11.0\n"
     ]
    }
   ],
   "source": [
    "# Part b\n",
    "# with brackets\n",
    "\n",
    "import numpy as np\n",
    "\n",
    "def moving_average2():\n",
    "    list_1=[]\n",
    "    def inner_func(value):\n",
    "        list_1.append(value)\n",
    "        return float(sum(list_1))/len(list_1)\n",
    "    return inner_func\n",
    "    \n",
    "mAvg2 = moving_average2()\n",
    "print(mAvg2(10)) #10.0\n",
    "print(mAvg2(11)) #10.5\n",
    "print(mAvg2(12)) #11.0\n"
   ]
  },
  {
   "cell_type": "code",
   "execution_count": 2,
   "metadata": {},
   "outputs": [
    {
     "name": "stdout",
     "output_type": "stream",
     "text": [
      "True\n",
      "False\n",
      "True\n"
     ]
    }
   ],
   "source": [
    "# Part c\n",
    "def same_frequency(num1, num2):\n",
    "    str_1 = str(num1)\n",
    "    str_2 = str(num2)\n",
    "    \n",
    "    dict1={}\n",
    "    dict2 = {}\n",
    "    \n",
    "    for list_val in str_1:\n",
    "        if list_val in dict1.keys():\n",
    "            dict1[list_val]+=1\n",
    "        else:\n",
    "            dict1[list_val]=1   \n",
    "                \n",
    "    for list_val in str_2:\n",
    "        if list_val in dict2.keys():\n",
    "            dict2[list_val]+=1\n",
    "        else:\n",
    "            dict2[list_val]=1   \n",
    "                \n",
    "    return dict1==dict2\n",
    "\n",
    "print(same_frequency(551122,221515)) # True \n",
    "print(same_frequency(321142,3212215)) # False \n",
    "print(same_frequency(1212, 2211)) # True\n"
   ]
  }
 ],
 "metadata": {
  "kernelspec": {
   "display_name": "Python 3",
   "language": "python",
   "name": "python3"
  },
  "language_info": {
   "codemirror_mode": {
    "name": "ipython",
    "version": 3
   },
   "file_extension": ".py",
   "mimetype": "text/x-python",
   "name": "python",
   "nbconvert_exporter": "python",
   "pygments_lexer": "ipython3",
   "version": "3.7.3"
  }
 },
 "nbformat": 4,
 "nbformat_minor": 2
}
