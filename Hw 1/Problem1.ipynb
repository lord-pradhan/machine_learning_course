{
 "cells": [
  {
   "cell_type": "code",
   "execution_count": 1,
   "metadata": {},
   "outputs": [
    {
     "name": "stdout",
     "output_type": "stream",
     "text": [
      "How many data points do you have?5\n",
      "enter x 0  0\n",
      "enter y 0  4\n",
      "enter x 1  1\n",
      "enter y 1  7\n",
      "enter x 2  2\n",
      "enter y 2  9\n",
      "enter x 3  3\n",
      "enter y 3  12\n",
      "enter x 4  5\n",
      "enter y 4  18\n"
     ]
    },
    {
     "data": {
      "text/plain": [
       "array([[ 0.,  4.],\n",
       "       [ 1.,  7.],\n",
       "       [ 2.,  9.],\n",
       "       [ 3., 12.],\n",
       "       [ 5., 18.]])"
      ]
     },
     "execution_count": 1,
     "metadata": {},
     "output_type": "execute_result"
    }
   ],
   "source": [
    "# Part b\n",
    "import numpy as np\n",
    "import math\n",
    "\n",
    "n= int(input(\"How many data points do you have?\"))\n",
    "whole_data=np.zeros((n,2))\n",
    "\n",
    "for i in range(n):\n",
    "    whole_data[i,0:]=[int(input(\"enter x %d  \" % i)),int(input(\"enter y %d  \" % i))]\n",
    "whole_data"
   ]
  },
  {
   "cell_type": "code",
   "execution_count": 8,
   "metadata": {},
   "outputs": [
    {
     "name": "stdout",
     "output_type": "stream",
     "text": [
      "[[ 0.52702703 -0.14864865]\n",
      " [-0.14864865  0.06756757]]\n",
      "[3.90540541 2.77027027]\n"
     ]
    }
   ],
   "source": [
    "def computation_fn(whole_data):\n",
    "    n= whole_data.shape[0]\n",
    "    x_0 = np.ones((n,1))\n",
    "    #print(x_0,'\\n')\n",
    "    \n",
    "    X=np.zeros((n,2))\n",
    "    for i in range(n):\n",
    "        X[i,0:] = [x_0[i,0], whole_data[i,0]]\n",
    "    #print(X)\n",
    "    Y = whole_data[0:,1]\n",
    "    #print(Y)\n",
    "    print(np.linalg.inv(np.matmul(np.transpose(X),X)))\n",
    "    return np.matmul(np.matmul(np.linalg.inv(np.matmul(np.transpose(X),X)), np.transpose(X)), Y)\n",
    "    \n",
    "#theta_0 = theta[0]\n",
    "#theta_1 = theta[1]\n",
    "theta = computation_fn(whole_data)\n",
    "print(theta)"
   ]
  },
  {
   "cell_type": "code",
   "execution_count": 4,
   "metadata": {},
   "outputs": [
    {
     "name": "stdout",
     "output_type": "stream",
     "text": [
      "[ 4.08065714 -0.44236914]\n"
     ]
    }
   ],
   "source": [
    "# Part C\n",
    "from numpy import genfromtxt\n",
    "\n",
    "my_data = genfromtxt('data.csv', delimiter=',')\n",
    "my_data = my_data[1:,:]\n",
    "\n",
    "theta = computation_fn(my_data)\n",
    "print(theta)"
   ]
  }
 ],
 "metadata": {
  "kernelspec": {
   "display_name": "Python 3",
   "language": "python",
   "name": "python3"
  },
  "language_info": {
   "codemirror_mode": {
    "name": "ipython",
    "version": 3
   },
   "file_extension": ".py",
   "mimetype": "text/x-python",
   "name": "python",
   "nbconvert_exporter": "python",
   "pygments_lexer": "ipython3",
   "version": "3.7.3"
  }
 },
 "nbformat": 4,
 "nbformat_minor": 2
}
