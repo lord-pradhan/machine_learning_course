{
 "cells": [
  {
   "cell_type": "code",
   "execution_count": 1,
   "metadata": {},
   "outputs": [],
   "source": [
    "import numpy as np\n",
    "import pandas as pd\n",
    "import matplotlib.pyplot as plt\n",
    "import sklearn\n",
    "from sklearn import model_selection"
   ]
  },
  {
   "cell_type": "markdown",
   "metadata": {},
   "source": [
    "## a) load/merge data and visualize logerror"
   ]
  },
  {
   "cell_type": "code",
   "execution_count": 2,
   "metadata": {},
   "outputs": [],
   "source": [
    "# load data into DataFrames\n",
    "train = pd.read_csv('train.csv')\n",
    "prop = pd.read_csv('properties.csv')"
   ]
  },
  {
   "cell_type": "code",
   "execution_count": 3,
   "metadata": {},
   "outputs": [
    {
     "name": "stdout",
     "output_type": "stream",
     "text": [
      "(90275, 3) (1048575, 58)\n",
      "(31725, 60)\n"
     ]
    }
   ],
   "source": [
    "print(train.shape, prop.shape)\n",
    "merged = pd.merge(train, prop, on='id')\n",
    "print(merged.shape)"
   ]
  },
  {
   "cell_type": "code",
   "execution_count": 4,
   "metadata": {},
   "outputs": [
    {
     "name": "stdout",
     "output_type": "stream",
     "text": [
      "(31725,)\n"
     ]
    },
    {
     "name": "stderr",
     "output_type": "stream",
     "text": [
      "C:\\Users\\rosha\\Anaconda3\\lib\\site-packages\\ipykernel_launcher.py:7: SettingWithCopyWarning: \n",
      "A value is trying to be set on a copy of a slice from a DataFrame\n",
      "\n",
      "See the caveats in the documentation: http://pandas.pydata.org/pandas-docs/stable/user_guide/indexing.html#returning-a-view-versus-a-copy\n",
      "  import sys\n",
      "C:\\Users\\rosha\\Anaconda3\\lib\\site-packages\\ipykernel_launcher.py:8: SettingWithCopyWarning: \n",
      "A value is trying to be set on a copy of a slice from a DataFrame\n",
      "\n",
      "See the caveats in the documentation: http://pandas.pydata.org/pandas-docs/stable/user_guide/indexing.html#returning-a-view-versus-a-copy\n",
      "  \n"
     ]
    }
   ],
   "source": [
    "# eliminate outliers\n",
    "logerr = merged.loc[: , \"logerror\"]\n",
    "\n",
    "ul = np.percentile(logerr, 99); ll = np.percentile(logerr, 1)\n",
    "# print(ul,ll)\n",
    "print(logerr.shape)\n",
    "logerr[logerr > ul] = ul\n",
    "logerr[logerr < ll] = ll"
   ]
  },
  {
   "cell_type": "code",
   "execution_count": 24,
   "metadata": {},
   "outputs": [
    {
     "data": {
      "text/plain": [
       "<matplotlib.collections.PathCollection at 0x2163490dfd0>"
      ]
     },
     "execution_count": 24,
     "metadata": {},
     "output_type": "execute_result"
    },
    {
     "data": {
      "image/png": "[encoded data removed]",
      "text/plain": [
       "<Figure size 432x288 with 1 Axes>"
      ]
     },
     "metadata": {
      "needs_background": "light"
     },
     "output_type": "display_data"
    }
   ],
   "source": [
    "# scatter of logerr\n",
    "plt.scatter(np.arange(logerr.shape[0]) , np.sort(logerr))\n",
    "# plt.scatter(merged.loc[:,'id'] , logerr)\n"
   ]
  },
  {
   "cell_type": "code",
   "execution_count": 6,
   "metadata": {},
   "outputs": [
    {
     "data": {
      "text/plain": [
       "(array([ 336.,   20.,   17.,   27.,   26.,   16.,   18.,   23.,   37.,\n",
       "          31.,   34.,   32.,   31.,   42.,   44.,   42.,   54.,   58.,\n",
       "          69.,   69.,   88.,   91.,   94.,   99.,  140.,  164.,  174.,\n",
       "         195.,  244.,  279.,  267.,  413.,  425.,  532.,  725.,  809.,\n",
       "        1093., 1347., 1685., 2005., 2380., 2443., 2294., 1975., 1779.,\n",
       "        1333., 1054.,  934.,  711.,  617.,  504.,  437.,  342.,  245.,\n",
       "         227.,  204.,  194.,  143.,  146.,  122.,  137.,   94.,   98.,\n",
       "          94.,   75.,   55.,   64.,   63.,   50.,   48.,   48.,   49.,\n",
       "          42.,   39.,   32.,   36.,   29.,   22.,   34.,   26.,   24.,\n",
       "          22.,   21.,   18.,   25.,   21.,   19.,   11.,   16.,   10.,\n",
       "          13.,   15.,    8.,   12.,   10.,   10.,   11.,   14.,    8.,\n",
       "         323.]),\n",
       " array([-3.2990000e-01, -3.2184332e-01, -3.1378664e-01, -3.0572996e-01,\n",
       "        -2.9767328e-01, -2.8961660e-01, -2.8155992e-01, -2.7350324e-01,\n",
       "        -2.6544656e-01, -2.5738988e-01, -2.4933320e-01, -2.4127652e-01,\n",
       "        -2.3321984e-01, -2.2516316e-01, -2.1710648e-01, -2.0904980e-01,\n",
       "        -2.0099312e-01, -1.9293644e-01, -1.8487976e-01, -1.7682308e-01,\n",
       "        -1.6876640e-01, -1.6070972e-01, -1.5265304e-01, -1.4459636e-01,\n",
       "        -1.3653968e-01, -1.2848300e-01, -1.2042632e-01, -1.1236964e-01,\n",
       "        -1.0431296e-01, -9.6256280e-02, -8.8199600e-02, -8.0142920e-02,\n",
       "        -7.2086240e-02, -6.4029560e-02, -5.5972880e-02, -4.7916200e-02,\n",
       "        -3.9859520e-02, -3.1802840e-02, -2.3746160e-02, -1.5689480e-02,\n",
       "        -7.6328000e-03,  4.2388000e-04,  8.4805600e-03,  1.6537240e-02,\n",
       "         2.4593920e-02,  3.2650600e-02,  4.0707280e-02,  4.8763960e-02,\n",
       "         5.6820640e-02,  6.4877320e-02,  7.2934000e-02,  8.0990680e-02,\n",
       "         8.9047360e-02,  9.7104040e-02,  1.0516072e-01,  1.1321740e-01,\n",
       "         1.2127408e-01,  1.2933076e-01,  1.3738744e-01,  1.4544412e-01,\n",
       "         1.5350080e-01,  1.6155748e-01,  1.6961416e-01,  1.7767084e-01,\n",
       "         1.8572752e-01,  1.9378420e-01,  2.0184088e-01,  2.0989756e-01,\n",
       "         2.1795424e-01,  2.2601092e-01,  2.3406760e-01,  2.4212428e-01,\n",
       "         2.5018096e-01,  2.5823764e-01,  2.6629432e-01,  2.7435100e-01,\n",
       "         2.8240768e-01,  2.9046436e-01,  2.9852104e-01,  3.0657772e-01,\n",
       "         3.1463440e-01,  3.2269108e-01,  3.3074776e-01,  3.3880444e-01,\n",
       "         3.4686112e-01,  3.5491780e-01,  3.6297448e-01,  3.7103116e-01,\n",
       "         3.7908784e-01,  3.8714452e-01,  3.9520120e-01,  4.0325788e-01,\n",
       "         4.1131456e-01,  4.1937124e-01,  4.2742792e-01,  4.3548460e-01,\n",
       "         4.4354128e-01,  4.5159796e-01,  4.5965464e-01,  4.6771132e-01,\n",
       "         4.7576800e-01]),\n",
       " <a list of 100 Patch objects>)"
      ]
     },
     "execution_count": 6,
     "metadata": {},
     "output_type": "execute_result"
    },
    {
     "data": {
      "image/png": "[encoded data removed]",
      "text/plain": [
       "<Figure size 432x288 with 1 Axes>"
      ]
     },
     "metadata": {
      "needs_background": "light"
     },
     "output_type": "display_data"
    }
   ],
   "source": [
    "# histogram of logerr\n",
    "plt.hist(logerr, bins = 100)"
   ]
  },
  {
   "cell_type": "markdown",
   "metadata": {},
   "source": [
    "## b) data cleaning"
   ]
  },
  {
   "cell_type": "code",
   "execution_count": 7,
   "metadata": {},
   "outputs": [],
   "source": [
    "# build new data frame\n",
    "# data_new = merged[['column_name']]\n",
    "\n",
    "lst2 = merged.isnull().sum()\n",
    "df_new = pd.DataFrame( list(zip(merged.columns.values, lst2 )), columns =['column_name', 'missing_count'] )\n",
    "\n",
    "df_new['missing_ratio'] = pd.Series(lst2/len(merged)).values\n"
   ]
  },
  {
   "cell_type": "code",
   "execution_count": 8,
   "metadata": {},
   "outputs": [],
   "source": [
    "# fill missing data\n",
    "merged = merged.fillna(merged.mean())"
   ]
  },
  {
   "cell_type": "markdown",
   "metadata": {},
   "source": [
    "## c) univariate analysis"
   ]
  },
  {
   "cell_type": "code",
   "execution_count": 9,
   "metadata": {},
   "outputs": [
    {
     "data": {
      "text/plain": [
       "<matplotlib.axes._subplots.AxesSubplot at 0x2163699d588>"
      ]
     },
     "execution_count": 9,
     "metadata": {},
     "output_type": "execute_result"
    },
    {
     "data": {
      "image/png": "[encoded data removed]",
      "text/plain": [
       "<Figure size 432x288 with 1 Axes>"
      ]
     },
     "metadata": {
      "needs_background": "light"
     },
     "output_type": "display_data"
    }
   ],
   "source": [
    "# make bar chart\n",
    "bar_df = merged.drop(['logerror'], axis=1).corrwith(merged['logerror'])\n",
    "bar_df.plot.bar()"
   ]
  },
  {
   "cell_type": "markdown",
   "metadata": {},
   "source": [
    "Explain reason for missing values:\n",
    "\n",
    "Categorical features fail to provide numerical values when .corrwith() command is used. Thus those feature correlation coefficients are missing."
   ]
  },
  {
   "cell_type": "markdown",
   "metadata": {},
   "source": [
    "## d) non-linear regression model"
   ]
  },
  {
   "cell_type": "code",
   "execution_count": 11,
   "metadata": {},
   "outputs": [],
   "source": [
    "# drop categorical features \n",
    "# (\"hashottuborspa\", \"propertycountylandusecode\", \"propertyzoningdesc\", \"fireplaceflag\", \"taxdelinquencyflag\") \n",
    "# drop \"id\" and \"transactiondate\"\n",
    "merged = merged.drop(['hashottuborspa', \"propertycountylandusecode\", \"propertyzoningdesc\", \"fireplaceflag\", \"taxdelinquencyflag\", \"id\", \"transactiondate\"], axis=1)"
   ]
  },
  {
   "cell_type": "code",
   "execution_count": 12,
   "metadata": {},
   "outputs": [],
   "source": [
    "from sklearn.ensemble import RandomForestRegressor\n",
    "from sklearn import model_selection"
   ]
  },
  {
   "cell_type": "code",
   "execution_count": 20,
   "metadata": {},
   "outputs": [
    {
     "name": "stderr",
     "output_type": "stream",
     "text": [
      "C:\\Users\\rosha\\Anaconda3\\lib\\site-packages\\sklearn\\ensemble\\forest.py:245: FutureWarning: The default value of n_estimators will change from 10 in version 0.20 to 100 in 0.22.\n",
      "  \"10 in version 0.20 to 100 in 0.22.\", FutureWarning)\n"
     ]
    },
    {
     "data": {
      "text/plain": [
       "RandomForestRegressor(bootstrap=True, criterion='mse', max_depth=None,\n",
       "                      max_features='auto', max_leaf_nodes=None,\n",
       "                      min_impurity_decrease=0.0, min_impurity_split=None,\n",
       "                      min_samples_leaf=1, min_samples_split=2,\n",
       "                      min_weight_fraction_leaf=0.0, n_estimators=10,\n",
       "                      n_jobs=None, oob_score=False, random_state=None,\n",
       "                      verbose=0, warm_start=False)"
      ]
     },
     "execution_count": 20,
     "metadata": {},
     "output_type": "execute_result"
    }
   ],
   "source": [
    "# split and train\n",
    "\n",
    "merge_train, merge_test = sklearn.model_selection.train_test_split(merged, test_size = 0.3)\n",
    "\n",
    "regr = RandomForestRegressor()\n",
    "regr.fit( merge_train.drop(['logerror'], axis=1), merge_train['logerror'] )"
   ]
  },
  {
   "cell_type": "code",
   "execution_count": 19,
   "metadata": {},
   "outputs": [
    {
     "name": "stdout",
     "output_type": "stream",
     "text": [
      "MSE Value =  0.013992068338966728\n"
     ]
    },
    {
     "data": {
      "image/png": "[encoded data removed]",
      "text/plain": [
       "<Figure size 432x288 with 1 Axes>"
      ]
     },
     "metadata": {
      "needs_background": "light"
     },
     "output_type": "display_data"
    }
   ],
   "source": [
    "# report importances and mse\n",
    "importances = regr.feature_importances_\n",
    "# print(importances)\n",
    "\n",
    "y_pos = np.arange(len(importances))\n",
    "\n",
    "plt.bar(y_pos, importances, align='center', alpha=0.5)\n",
    "\n",
    "pred_labels = regr.predict(merge_test.drop(['logerror'], axis=1))\n",
    "\n",
    "mse_val = sklearn.metrics.mean_squared_error( merge_test['logerror'].values, pred_labels )\n",
    "print('MSE Value = ',mse_val)"
   ]
  },
  {
   "cell_type": "markdown",
   "metadata": {},
   "source": [
    "## e) KFold"
   ]
  },
  {
   "cell_type": "code",
   "execution_count": 22,
   "metadata": {},
   "outputs": [
    {
     "name": "stdout",
     "output_type": "stream",
     "text": [
      "Avg MSE =  0.014690694788545544\n"
     ]
    }
   ],
   "source": [
    "# KFold, k = 5\n",
    "fold_data = merged.loc[0:499]\n",
    "\n",
    "scores = []\n",
    "X_fold = fold_data.drop(['logerror'], axis=1)\n",
    "Y_fold = fold_data['logerror']\n",
    "\n",
    "kf = model_selection.KFold(n_splits = 5, shuffle = False)\n",
    "\n",
    "for train_index, test_index in kf.split(X_fold):\n",
    "    \n",
    "    X_train, X_test, y_train, y_test = X_fold.iloc[train_index], X_fold.iloc[test_index], Y_fold.iloc[train_index], Y_fold.iloc[test_index]\n",
    "    regr.fit(X_train, y_train)\n",
    "    scores.append( sklearn.metrics.mean_squared_error( y_test, regr.predict(X_test) ) )\n",
    "    \n",
    "print('Avg MSE = ',np.average(scores))"
   ]
  },
  {
   "cell_type": "code",
   "execution_count": 16,
   "metadata": {},
   "outputs": [],
   "source": [
    "# Run d2 for 100 times\n",
    "mse_list = []\n",
    "\n",
    "for i in range(100):\n",
    "\n",
    "    # split and train\n",
    "    merge_train, merge_test = sklearn.model_selection.train_test_split(merged.iloc[0:499], test_size = 0.3, random_state = i)\n",
    "    regr = RandomForestRegressor(n_estimators = 10, random_state = i)\n",
    "    regr.fit( merge_train.drop(['logerror'], axis=1), merge_train['logerror'] )\n",
    "    \n",
    "    pred_labels = regr.predict(merge_test.drop(['logerror'], axis=1))\n",
    "    \n",
    "    mse_list.append(sklearn.metrics.mean_squared_error( merge_test['logerror'].values, pred_labels ) )\n",
    "    "
   ]
  },
  {
   "cell_type": "code",
   "execution_count": 23,
   "metadata": {},
   "outputs": [
    {
     "name": "stdout",
     "output_type": "stream",
     "text": [
      "Avg MSE =  0.015381375652345168\n"
     ]
    }
   ],
   "source": [
    "print('Avg MSE = ',np.average(mse_list))"
   ]
  },
  {
   "cell_type": "markdown",
   "metadata": {},
   "source": [
    "Advantage of k-fold: \n",
    "\n",
    "k-fold helps the model better get trained on the whole data by shuffling the training and test sets everytime. Thus, the model is better able to learn the entire data irrespective of how the train/test data is split."
   ]
  }
 ],
 "metadata": {
  "kernelspec": {
   "display_name": "Python 3",
   "language": "python",
   "name": "python3"
  },
  "language_info": {
   "codemirror_mode": {
    "name": "ipython",
    "version": 3
   },
   "file_extension": ".py",
   "mimetype": "text/x-python",
   "name": "python",
   "nbconvert_exporter": "python",
   "pygments_lexer": "ipython3",
   "version": "3.6.8"
  }
 },
 "nbformat": 4,
 "nbformat_minor": 2
}
