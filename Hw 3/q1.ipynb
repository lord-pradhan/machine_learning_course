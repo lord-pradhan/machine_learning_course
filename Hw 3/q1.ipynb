{
 "cells": [
  {
   "cell_type": "markdown",
   "metadata": {},
   "source": [
    "### Important Note for question1 !\n",
    "- Please **do not** change the default variable names in this problem, as we will use them in different parts.\n",
    "- The default variables are initially set to \"None\".\n",
    "- You only need to modify code in the \"TODO\" part. We added a lot of \"assertions\" to check your code. **Do not** modify them."
   ]
  },
  {
   "cell_type": "code",
   "execution_count": 1,
   "metadata": {},
   "outputs": [],
   "source": [
    "# load packages\n",
    "import numpy as np\n",
    "import pandas as pd\n",
    "import time\n",
    "from sklearn.naive_bayes import GaussianNB"
   ]
  },
  {
   "cell_type": "markdown",
   "metadata": {},
   "source": [
    "## P1. Load data and plot\n",
    "### TODO\n",
    "- Load train and test data, and split them into inputs(trainX, testX) and labels(trainY, testY)\n",
    "\n",
    "\n"
   ]
  },
  {
   "cell_type": "code",
   "execution_count": 2,
   "metadata": {},
   "outputs": [
    {
     "name": "stderr",
     "output_type": "stream",
     "text": [
      "C:\\Users\\rosha\\Anaconda3\\lib\\site-packages\\ipykernel_launcher.py:5: FutureWarning: Method .as_matrix will be removed in a future version. Use .values instead.\n",
      "  \"\"\"\n",
      "C:\\Users\\rosha\\Anaconda3\\lib\\site-packages\\ipykernel_launcher.py:6: FutureWarning: Method .as_matrix will be removed in a future version. Use .values instead.\n",
      "  \n"
     ]
    },
    {
     "name": "stdout",
     "output_type": "stream",
     "text": [
      "(134000, 200) (134000,)\n"
     ]
    },
    {
     "name": "stderr",
     "output_type": "stream",
     "text": [
      "C:\\Users\\rosha\\Anaconda3\\lib\\site-packages\\ipykernel_launcher.py:8: FutureWarning: Method .as_matrix will be removed in a future version. Use .values instead.\n",
      "  \n",
      "C:\\Users\\rosha\\Anaconda3\\lib\\site-packages\\ipykernel_launcher.py:9: FutureWarning: Method .as_matrix will be removed in a future version. Use .values instead.\n",
      "  if __name__ == '__main__':\n"
     ]
    }
   ],
   "source": [
    "# Use pandas to load q1_train.csv and q1_test.csv\n",
    "# Each data point has 200 features(X), followed by 1 label(Y)\n",
    "\n",
    "#### TODO ####\n",
    "trainX = pd.read_csv('q1_train.csv', usecols = np.arange(1,201).tolist()).as_matrix()\n",
    "trainY = pd.read_csv('q1_train.csv', usecols = np.arange(201,202).tolist()).as_matrix().flatten()\n",
    "print(trainX.shape, trainY.shape)\n",
    "testX = pd.read_csv('q1_test.csv', usecols = np.arange(1,201).tolist()).as_matrix()\n",
    "testY = pd.read_csv('q1_test.csv', usecols = np.arange(201,202).tolist()).as_matrix().flatten()\n",
    "##############\n",
    "\n",
    "assert(len(trainX.shape) == 2)\n",
    "assert(len(trainY.shape) == 1)\n",
    "assert(trainX.shape[1] == 200)"
   ]
  },
  {
   "cell_type": "markdown",
   "metadata": {},
   "source": [
    "## P2. Write your Gaussian NB solver\n",
    "### TODO\n",
    "- Finish the myNBSolver() function. \n",
    "    - Compute P(y == 0) and P(y == 1), saved in \"py0\" and \"py1\"\n",
    "    - Compute mean/variance of trainX for both y = 0 and y = 1, saved in \"mean0\", \"var0\", \"mean1\" and \"var1\"\n",
    "        - Each of them should have shape (N_train, M), where N_train is number of train samples and M is number of features.\n",
    "    - Compute P(xi | y == 0) and P(xi | y == 1), compare and save **binary** prediction in \"train_pred\" and \"test_pred\"\n",
    "    - Compute train accuracy and test accuracy, saved in \"train_acc\" and \"test_acc\".\n",
    "    - Return train accuracy and test accuracy."
   ]
  },
  {
   "cell_type": "code",
   "execution_count": 3,
   "metadata": {},
   "outputs": [],
   "source": [
    "def myNBSolver(trainX, trainY, testX, testY):\n",
    "    \n",
    "    N_train = trainX.shape[0]\n",
    "    N_test = testX.shape[0]\n",
    "    M = trainX.shape[1]\n",
    "    \n",
    "    #### TODO ####\n",
    "    # Compute P(y == 0) and P(y == 1)\n",
    "    \n",
    "    py0 = 1 - np.count_nonzero(trainY)/N_train\n",
    "    py1 = 1- py0\n",
    "    \n",
    "    print(py0, py1)\n",
    "    \n",
    "    ##############\n",
    "    print(\"Total probablity is %.2f. Should be equal to 1.\" %(py0 + py1))\n",
    "\n",
    "    #### TODO ####\n",
    "    # Compute mean/var for each label\n",
    "    \n",
    "    print(trainX[trainY == 0 ].shape)\n",
    "    mean0 = np.mean( trainX[trainY == 0, : ] , axis = 0)\n",
    "    mean1 = np.mean( trainX[trainY==1, :] , axis = 0)\n",
    "    var0 = np.var( trainX[trainY==0, :] , axis = 0)\n",
    "    var1 = np.var( trainX[trainY==1, :] , axis = 0)\n",
    "    print(mean0.shape, var0.shape)\n",
    "    \n",
    "    ##############\n",
    "    assert(mean0.shape[0] == M)\n",
    "    \n",
    "    #### TODO ####\n",
    "    # Compute P(xi|y == 0) and P(xi|y == 1), compare and make prediction\n",
    "    # This part may spend 5 - 10 minutes or even more if you use for loop, so feel free to \n",
    "    # print something (like step number) to check the progress\n",
    "\n",
    "    train_pred = np.empty((N_train))\n",
    "    test_pred = np.empty((N_test))\n",
    "    \n",
    "    # Predictions for training set\n",
    "    print(\"Training set begins\")\n",
    "    for i in range(0,N_train):\n",
    "        post0_num= py0; post1_num=py1\n",
    "        \n",
    "        for j in range(0,M):\n",
    "            \n",
    "            post0_num = post0_num * float (np.exp( -float(np.square(trainX[i,j] - mean0[j])) / (2*var0[j]) ) ) / np.sqrt( 2*np.pi*var0[j] )\n",
    "                \n",
    "            post1_num = post1_num * float( np.exp( -float(np.square(trainX[i,j] - mean1[j])) / (2*var1[j]) ) ) / np.sqrt( 2*np.pi*var1[j] )\n",
    "        \n",
    "        if post1_num > post0_num:\n",
    "            train_pred[i] = 1\n",
    "        else:\n",
    "            train_pred[i] = 0\n",
    "            \n",
    "\n",
    "    # Predictions for test set\n",
    "    print(\"Test set begins\")\n",
    "    for i in range(0,N_test):\n",
    "        post0_num= py0; post1_num=py1\n",
    "        \n",
    "        for j in range(0,M):\n",
    "            \n",
    "            post0_num = post0_num * float( np.exp( -float(np.square(testX[i,j] - mean0[j])) / (2*var0[j]) ) ) / np.sqrt( 2*np.pi*var0[j] )\n",
    "                \n",
    "            post1_num = post1_num * float( np.exp( -float(np.square(testX[i,j] - mean1[j])) / (2*var1[j]) ) ) / np.sqrt( 2*np.pi*var1[j] )\n",
    "        \n",
    "        if post1_num > post0_num:\n",
    "            test_pred[i] = 1\n",
    "        else:\n",
    "            test_pred[i] = 0\n",
    "            \n",
    "\n",
    "    ##############\n",
    "    assert(train_pred[0] == 0 or train_pred[0] == 1)\n",
    "    assert(test_pred[0] == 0 or test_pred[0] == 1)\n",
    "    \n",
    "    #### TODO ####\n",
    "    # Compute train accuracy and test accuracy\n",
    "\n",
    "    count = 0\n",
    "    for i in range(N_train):\n",
    "        count += int(train_pred[i] == trainY[i])\n",
    "    train_acc = float(count)/N_train\n",
    "\n",
    "    count = 0\n",
    "    for i in range(N_test):\n",
    "        count += int(test_pred[i] == testY[i])\n",
    "    test_acc = float(count)/N_test\n",
    "    \n",
    "    ##############\n",
    "    \n",
    "    return train_acc, test_acc"
   ]
  },
  {
   "cell_type": "code",
   "execution_count": 4,
   "metadata": {},
   "outputs": [
    {
     "name": "stdout",
     "output_type": "stream",
     "text": [
      "0.9004179104477612 0.0995820895522388\n",
      "Total probablity is 1.00. Should be equal to 1.\n",
      "(120656, 200)\n",
      "(200,) (200,)\n",
      "Training set begins\n",
      "Test set begins\n",
      "Train accuracy is 92.22\n",
      "Test accuracy is 92.05\n"
     ]
    }
   ],
   "source": [
    "# driver to test your NB solver\n",
    "train_acc, test_acc = myNBSolver(trainX, trainY, testX, testY)\n",
    "print(\"Train accuracy is %.2f\" %(train_acc * 100))\n",
    "print(\"Test accuracy is %.2f\" %(test_acc * 100))"
   ]
  },
  {
   "cell_type": "markdown",
   "metadata": {},
   "source": [
    "## P3. Test your result using sklearn\n",
    "### TODO\n",
    "- Finish the skNBSolver() function. \n",
    "     - fit model, make prediction and return accuracy for train and test sets."
   ]
  },
  {
   "cell_type": "code",
   "execution_count": 7,
   "metadata": {},
   "outputs": [],
   "source": [
    "def skNBSolver(trainX, trainY, testX, testY):\n",
    "    \n",
    "    #### TODO ####\n",
    "    # fit model\n",
    "    # make prediction\n",
    "    # compute accuracy\n",
    "    gnb = GaussianNB()\n",
    "    \n",
    "    N_train = trainX.shape[0]\n",
    "    N_test = testX.shape[0]\n",
    "    gnb.fit(trainX, trainY)\n",
    "    \n",
    "    # Predict training data\n",
    "    count_1 = 0\n",
    "    for i in range(N_train):\n",
    "        count_1 += int( int(gnb.predict(trainX[i,:].reshape(1,-1))) == trainY[i])\n",
    "    sk_train_acc = float(count_1)/N_train\n",
    "    \n",
    "    # Predict test data\n",
    "    \n",
    "    count_1 = 0\n",
    "    for i in range(N_test):\n",
    "        count_1 += int( int(gnb.predict(testX[i,:].reshape(1,-1))) == testY[i])\n",
    "    sk_test_acc = float(count_1)/N_test\n",
    "    \n",
    "    \n",
    "    ##############\n",
    "    return sk_train_acc, sk_test_acc\n",
    "    "
   ]
  },
  {
   "cell_type": "code",
   "execution_count": 8,
   "metadata": {},
   "outputs": [
    {
     "name": "stdout",
     "output_type": "stream",
     "text": [
      "0.9222089552238806\n",
      "Train accuracy is 92.22\n",
      "Test accuracy is 92.05\n"
     ]
    }
   ],
   "source": [
    "# driver to test skNBSolver\n",
    "sk_train_acc, sk_test_acc = skNBSolver(trainX, trainY, testX, testY)\n",
    "print(sk_train_acc)\n",
    "print(\"Train accuracy is %.2f\" %(sk_train_acc * 100))\n",
    "print(\"Test accuracy is %.2f\" %(sk_test_acc * 100))"
   ]
  }
 ],
 "metadata": {
  "kernelspec": {
   "display_name": "Python 3",
   "language": "python",
   "name": "python3"
  },
  "language_info": {
   "codemirror_mode": {
    "name": "ipython",
    "version": 3
   },
   "file_extension": ".py",
   "mimetype": "text/x-python",
   "name": "python",
   "nbconvert_exporter": "python",
   "pygments_lexer": "ipython3",
   "version": "3.7.3"
  }
 },
 "nbformat": 4,
 "nbformat_minor": 2
}
