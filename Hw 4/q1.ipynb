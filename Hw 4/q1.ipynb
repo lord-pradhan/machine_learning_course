{
 "cells": [
  {
   "cell_type": "markdown",
   "metadata": {},
   "source": [
    "# Principal Component Analysis\n",
    "The goal of this question is to build a conceptual understanding of dimensionality reduction using PCA and implement it on a toy dataset. You’ll only have to use numpy and matplotlib for this question."
   ]
  },
  {
   "cell_type": "code",
   "execution_count": 25,
   "metadata": {},
   "outputs": [],
   "source": [
    "import numpy as np\n",
    "import math\n",
    "import matplotlib.pyplot as plt"
   ]
  },
  {
   "cell_type": "code",
   "execution_count": 26,
   "metadata": {},
   "outputs": [],
   "source": [
    "# (a) Load data (features)\n",
    "def load_data():\n",
    "    \n",
    "    features = np.load('features.npy')\n",
    "    labels = np.load('labels.npy', allow_pickle=True)\n",
    "    \n",
    "    data = np.concatenate((features, labels.reshape(labels.shape[0],1)), axis = 1)\n",
    "    data = np.array(data, dtype=np.float64)\n",
    "    data[:,0:features.shape[1]-1] = ( data[:,0:features.shape[1]-1] - np.mean(data[:,0:features.shape[1]-1], axis=0) ) / np.sqrt( np.var( data[:,0:features.shape[1]-1] , axis=0))\n",
    "    \n",
    "    print(data.shape, data[:,8])\n",
    "    return data"
   ]
  },
  {
   "cell_type": "code",
   "execution_count": 27,
   "metadata": {},
   "outputs": [],
   "source": [
    "# (b) Perform eigen decomposition and return eigen pairs in desecending order of eigen values\n",
    "def eigendecomp(X):\n",
    "    \n",
    "    cov_mat = ( X[:,0:X.shape[1]-1].T @ X[:,0:X.shape[1]-1] )/X.shape[0]\n",
    "    w,v = np.linalg.eig(cov_mat)\n",
    "    \n",
    "    idx = w.argsort()[::-1]   \n",
    "    sorted_eig_vals = w[idx]\n",
    "    sorted_eig_vecs = v[:,idx]\n",
    "    print(sorted_eig_vecs.shape)\n",
    "    return (sorted_eig_vals, sorted_eig_vecs)"
   ]
  },
  {
   "cell_type": "code",
   "execution_count": 28,
   "metadata": {},
   "outputs": [],
   "source": [
    "# (c) Evaluate using variance_explained as the metric\n",
    "def eval(X, sorted_eig_vals, sorted_eig_vecs):\n",
    "    k=8\n",
    "    eig_vecs_trunc = sorted_eig_vecs[:,0:k]\n",
    "    eig_vals_trunc = sorted_eig_vals[0:k]\n",
    "    new_features = X[:,0:X.shape[1]-1] @ eig_vecs_trunc\n",
    "    \n",
    "    var_features = np.var(new_features, axis = 0)\n",
    "    \n",
    "    return new_features, var_features\n",
    "        \n"
   ]
  },
  {
   "cell_type": "code",
   "execution_count": 29,
   "metadata": {},
   "outputs": [],
   "source": [
    "# (d) Visualize after projecting to 2-D space\n",
    "def viz(new_features, X):\n",
    "    X_in = ( new_features[:, 0:2] - np.mean(new_features[:, 0:2], axis=0) ) / np.sqrt( np.var(new_features[:, 0:2], axis=0) )\n",
    "    Y_in = X[:,X.shape[1]-1]\n",
    "    fig = plt.plot( X_in[Y_in==0, 1],  X_in[Y_in==0, 0], 'bo',  X_in[Y_in ==1, 1],  X_in[Y_in ==1 , 0], 'ro', X_in[Y_in ==2, 1],  X_in[Y_in ==2 , 0], 'go')\n",
    "    "
   ]
  },
  {
   "cell_type": "code",
   "execution_count": 30,
   "metadata": {},
   "outputs": [
    {
     "name": "stdout",
     "output_type": "stream",
     "text": [
      "(150, 9) [0. 0. 0. 0. 0. 0. 0. 0. 0. 0. 0. 0. 0. 0. 0. 0. 0. 0. 0. 0. 0. 0. 0. 0.\n",
      " 0. 0. 0. 0. 0. 0. 0. 0. 0. 0. 0. 0. 0. 0. 0. 0. 0. 0. 0. 0. 0. 0. 0. 0.\n",
      " 0. 0. 1. 1. 1. 1. 1. 1. 1. 1. 1. 1. 1. 1. 1. 1. 1. 1. 1. 1. 1. 1. 1. 1.\n",
      " 1. 1. 1. 1. 1. 1. 1. 1. 1. 1. 1. 1. 1. 1. 1. 1. 1. 1. 1. 1. 1. 1. 1. 1.\n",
      " 1. 1. 1. 1. 2. 2. 2. 2. 2. 2. 2. 2. 2. 2. 2. 2. 2. 2. 2. 2. 2. 2. 2. 2.\n",
      " 2. 2. 2. 2. 2. 2. 2. 2. 2. 2. 2. 2. 2. 2. 2. 2. 2. 2. 2. 2. 2. 2. 2. 2.\n",
      " 2. 2. 2. 2. 2. 2.]\n",
      "(8, 8)\n"
     ]
    },
    {
     "data": {
      "image/png": "[encoded data removed]",
      "text/plain": [
       "<Figure size 432x288 with 1 Axes>"
      ]
     },
     "metadata": {
      "needs_background": "light"
     },
     "output_type": "display_data"
    }
   ],
   "source": [
    "def main():\n",
    "    \n",
    "    X= load_data()\n",
    "    sorted_eig_vals, sorted_eig_vecs = eigendecomp(X)\n",
    "    new_features, var_features = eval(X, sorted_eig_vals, sorted_eig_vecs)\n",
    "    viz(new_features, X)\n",
    "\n",
    "if __name__ == \"__main__\":\n",
    "    main()"
   ]
  },
  {
   "cell_type": "raw",
   "metadata": {},
   "source": [
    "(e1): If the number of features is 1000 and the number of data points is 10, what will be the dimension of your covariance matrix? Can you suggest what can be changed to improve the performance?"
   ]
  },
  {
   "cell_type": "raw",
   "metadata": {},
   "source": [
    "Dimension of covariance matrix will be 1000 x 1000. Increase number of data points to improve performance."
   ]
  },
  {
   "cell_type": "raw",
   "metadata": {},
   "source": [
    "(e2): Assume you have a dataset with the original dimensionality as 2 and you have to reduce it to 1. Provide a sample scatter plot of the original data (less than 10 datapoints) where PCA might produce misleading results. You can plot it by hand and then take a picture. In the next cell, switch to Markdown mode and use the command: ![title](<your_plot_file_path>)"
   ]
  },
  {
   "cell_type": "markdown",
   "metadata": {},
   "source": [
    "![PCA failure](pca.jpg)"
   ]
  }
 ],
 "metadata": {
  "kernelspec": {
   "display_name": "Python 3",
   "language": "python",
   "name": "python3"
  },
  "language_info": {
   "codemirror_mode": {
    "name": "ipython",
    "version": 3
   },
   "file_extension": ".py",
   "mimetype": "text/x-python",
   "name": "python",
   "nbconvert_exporter": "python",
   "pygments_lexer": "ipython3",
   "version": "3.6.8"
  }
 },
 "nbformat": 4,
 "nbformat_minor": 2
}
