{
 "cells": [
  {
   "cell_type": "markdown",
   "metadata": {
    "colab_type": "text",
    "id": "emivUT7gekgo"
   },
   "source": [
    "## OpenAI Gym Warm-Up (4 x 4 map)"
   ]
  },
  {
   "cell_type": "code",
   "execution_count": 1,
   "metadata": {
    "colab": {
     "base_uri": "https://localhost:8080/",
     "height": 229
    },
    "colab_type": "code",
    "id": "6nXCSF81ekg4",
    "outputId": "293aa122-232b-4a70-d0c2-32b066450120"
   },
   "outputs": [
    {
     "name": "stdout",
     "output_type": "stream",
     "text": [
      "State space of the Env:  16\n",
      "State space of the Env by accessing env.nS:  16\n",
      "Action space of the Env:  4\n",
      "Transition Probabilty:  1.0\n",
      "Next State:  0\n",
      "Reward:  0.0\n",
      "Episode ended? :  False\n"
     ]
    }
   ],
   "source": [
    "# Import Environment class and Libraries\n",
    "from frozen_lake import FrozenLakeEnv\n",
    "import numpy as np\n",
    "import sys\n",
    "import matplotlib.pyplot as plt\n",
    "import time\n",
    "\n",
    "\n",
    "# Create Environment Object\n",
    "env = FrozenLakeEnv(map_name =\"4x4\", is_slippery=False)\n",
    "\n",
    "\n",
    "# Access the number of states:\n",
    "nS = env.observation_space\n",
    "print(\"State space of the Env: \", nS)\n",
    "\n",
    "# or you could even use \n",
    "nS = env.nS\n",
    "print(\"State space of the Env by accessing env.nS: \", nS)\n",
    "\n",
    "\n",
    "# Action space of the agent:\n",
    "nA = env.nA\n",
    "print(\"Action space of the Env: \", nA)\n",
    "\n",
    "\"\"\"\n",
    "For policy iteration, you would need to access\n",
    "State(s), Action(a), Next State(ns), Reward(r), episode ended? (is_done) tuples.\n",
    "\n",
    "Note that in this environment, the orientation of the agent does not matter.\n",
    "No matter what direction the agent is facing, if, say a left action is performed, \n",
    "the agent moves to the left of the crrent state.\n",
    "\"\"\"\n",
    "\n",
    "# For actions, this is the corresponding dictionary:\n",
    "action_names = {0:'L', 1:'D', 2:\"R\", 3:\"U\"}\n",
    "\n",
    "\"\"\"\n",
    "Here, \n",
    "'L' means left\n",
    "'D' means down\n",
    "'R' means right\n",
    "'U' means up\n",
    "\n",
    "\n",
    "\n",
    "You can access these tuples by simply env.P[s][a].\n",
    "where 's' is state, and 'a' is action. For example, let's say we are at state '4',\n",
    "and we take an action '1' or \"Down\". The next state (ns) would be 8, the episode would not have ended (is_done), \n",
    "the reward (r) is 0 and the transition probabilty (prob) is 1 because this is a deterministic setting.\n",
    "\"\"\"\n",
    "prob, ns, r, is_done = env.P[0][0][0]\n",
    "\n",
    "print(\"Transition Probabilty: \", prob)\n",
    "print(\"Next State: \", ns)\n",
    "print(\"Reward: \", r)\n",
    "print(\"Episode ended? : \", is_done)\n",
    "# Note that we need to add a [0] after env.P[s][a] because it returns a list containing the tuple"
   ]
  },
  {
   "cell_type": "markdown",
   "metadata": {
    "colab_type": "text",
    "id": "nLhFHzobekg9"
   },
   "source": [
    "## Policy Iteration \n",
    "\n",
    "- Follow the pseudo-code given in the handout for this section"
   ]
  },
  {
   "cell_type": "code",
   "execution_count": 2,
   "metadata": {
    "colab": {},
    "colab_type": "code",
    "id": "Y-c-a-N2ekg_"
   },
   "outputs": [],
   "source": [
    "def print_policy(policy, action_names, states):\n",
    "    \"\"\"Print the policy in human-readable format.\n",
    "    If you've implemented this correctly, the output (for 4x4 map) should be:\n",
    "    \n",
    "    D R D L \n",
    "    D L D L \n",
    "    R D D L \n",
    "    L R R L \n",
    "    \n",
    "    Parameters\n",
    "    ----------\n",
    "    policy: np.ndarray\n",
    "        Array of state to action number mappings\n",
    "    action_names: dict\n",
    "        Mapping of action numbers to characters representing the action.\n",
    "    num_states: int\n",
    "        Number of states in the FrozenLakeEnvironment (16 or 64 for 4x4 or 8x8 maps respectively)      \n",
    "    \"\"\"\n",
    "    \n",
    "    # WRITE YOUR CODE HERE:\n",
    "    ct=0\n",
    "    for i in range(int(np.sqrt(states))):\n",
    "        for j in range(int(np.sqrt(states))):\n",
    "            print(action_names[policy[ct]],end= ' ')\n",
    "            ct+=1\n",
    "        print('', end='\\n')\n",
    "    \n",
    "        "
   ]
  },
  {
   "cell_type": "code",
   "execution_count": 3,
   "metadata": {
    "colab": {},
    "colab_type": "code",
    "id": "3YkPtW2bekhG"
   },
   "outputs": [],
   "source": [
    "def evaluate_policy_sync(env, gamma, policy, value_func, max_iterations=int(1e3), tol=1e-3):\n",
    "    \"\"\"Performs policy evaluation.\n",
    "    \n",
    "    Evaluates the value of a given policy.\n",
    "\n",
    "    Parameters\n",
    "    ----------\n",
    "    env: Frozen Lake Environment\n",
    "      The environment to compute value iteration for.\n",
    "    gamma: float\n",
    "      Discount factor, must be in range [0, 1)\n",
    "    policy: np.array\n",
    "      The policy to evaluate. Maps states to actions.\n",
    "    value_func: np.array\n",
    "      Array of scalar values for each state\n",
    "    max_iterations: int\n",
    "      The maximum number of iterations to run before stopping.\n",
    "    tol: float\n",
    "      Determines when value function has converged.\n",
    "\n",
    "    Returns\n",
    "    -------\n",
    "    np.ndarray, int\n",
    "      The value for the given policy and the number of iterations till\n",
    "      the value function converged.\n",
    "    \"\"\"\n",
    "    \n",
    "    val_iter=0\n",
    "    # WRITE YOUR CODE HERE:\n",
    "    \n",
    "    while(1):\n",
    "        val_iter += 1\n",
    "        delta = 0\n",
    "        for i in range(len(policy)):\n",
    "            prev_val = value_func[i]\n",
    "            prob, ns, r, is_done = env.P[i][policy[i]][0]\n",
    "\n",
    "            value_func[i] = value_func[ns]*gamma + r\n",
    "            \n",
    "            delta = max(delta, np.abs(prev_val - value_func[i]))\n",
    "\n",
    "        if delta<tol:\n",
    "            break\n",
    "\n",
    "    new_value_func = value_func\n",
    "\n",
    "    return new_value_func, val_iter"
   ]
  },
  {
   "cell_type": "code",
   "execution_count": 4,
   "metadata": {
    "colab": {},
    "colab_type": "code",
    "id": "jPAn5g87ekhM"
   },
   "outputs": [],
   "source": [
    "def improve_policy(env, gamma, value_func, policy):\n",
    "    \"\"\"Performs policy improvement.\n",
    "    \n",
    "    Given a policy and value function, improves the policy.\n",
    "\n",
    "    Parameters\n",
    "    ----------\n",
    "    env: Frozen Lake Environment\n",
    "      The environment to compute value iteration for.\n",
    "    gamma: float\n",
    "      Discount factor, must be in range [0, 1)\n",
    "    value_func: np.ndarray\n",
    "      Value function for the given policy.\n",
    "    policy: dict or np.array\n",
    "      The policy to improve. Maps states to actions.\n",
    "\n",
    "    Returns\n",
    "    -------\n",
    "    bool, np.ndarray\n",
    "      Returns the new imporved policy.\n",
    "    \"\"\"\n",
    "    \n",
    "    # WRITE YOUR CODE HERE:\n",
    "    stable = 1\n",
    "    for i in range(len(policy)):\n",
    "        prev_pol = policy[i]\n",
    "        val_temp = np.zeros((4))\n",
    "        for i1 in range(4):\n",
    "            prob, ns, r, is_done = env.P[ i ][ i1 ][0]\n",
    "            val_temp[i1] =  r + gamma*value_func[ns]\n",
    "\n",
    "        policy[i] = np.argmax(val_temp)\n",
    "\n",
    "        if policy[i]!=prev_pol:\n",
    "            stable = 0\n",
    "\n",
    "    new_policy = policy\n",
    "\n",
    "    return stable, new_policy"
   ]
  },
  {
   "cell_type": "code",
   "execution_count": 5,
   "metadata": {
    "colab": {},
    "colab_type": "code",
    "id": "mIEVNrNNekhR"
   },
   "outputs": [],
   "source": [
    "def policy_iteration_sync(env, gamma, max_iterations=int(1e3), tol=1e-3):\n",
    "    \n",
    "    \"\"\"\n",
    "    Runs policy iteration.\n",
    "\n",
    "    See page 85 of the Sutton & Barto Second Edition book.\n",
    "\n",
    "    You should call the improve_policy() and evaluate_policy_sync() methods to\n",
    "    implement this method.\n",
    "    \n",
    "    If you've implemented this correctly, it should take much less than 1 second.\n",
    "    \n",
    "    Parameters\n",
    "    ----------\n",
    "    env: Frozen Lake Environment\n",
    "      The environment to compute value iteration for.\n",
    "    gamma: float\n",
    "      Discount factor, must be in range [0, 1)\n",
    "    max_iterations: int\n",
    "      The maximum number of iterations to run before stopping.\n",
    "    tol: float\n",
    "      Determines when value function has converged.\n",
    "\n",
    "    Returns\n",
    "    -------\n",
    "    (np.ndarray, np.ndarray, int, int)\n",
    "       Returns optimal policy, value function, number of policy\n",
    "       improvement iterations, and number of value iterations.\n",
    "    \"\"\"  \n",
    "    policy = np.random.randint(0, 4, size=env.nS)   #Define random policy\n",
    "    value_func = np.zeros(env.nS)    # Define initial value function\n",
    "    num_pol_iter = 0\n",
    "    num_val_iter = 0\n",
    "    value_func_list = np.zeros((value_func.shape[0], 100))\n",
    "    \n",
    "    # WRITE YOUR CODE HERE:\n",
    "    while(num_pol_iter<max_iterations):\n",
    "        num_pol_iter += 1\n",
    "        value_func, num_val_temp = evaluate_policy_sync(env, gamma, policy, value_func)\n",
    "        \n",
    "        value_func_list[:,num_pol_iter] = value_func\n",
    "\n",
    "        num_val_iter += num_val_temp\n",
    "        stable, policy= improve_policy(env, gamma, value_func, policy)        \n",
    "\n",
    "        if stable:\n",
    "            new_policy = policy\n",
    "            break\n",
    "    value_func_list = np.array(value_func_list)\n",
    "\n",
    "    return new_policy, value_func, num_pol_iter, num_val_iter ,value_func_list"
   ]
  },
  {
   "cell_type": "code",
   "execution_count": 6,
   "metadata": {
    "colab": {
     "base_uri": "https://localhost:8080/",
     "height": 286
    },
    "colab_type": "code",
    "id": "tnHPkgmZekhX",
    "outputId": "6db54c6e-be6f-4344-bd7f-0a5335699985",
    "scrolled": false
   },
   "outputs": [],
   "source": [
    "def main():\n",
    "    \n",
    "    # WRITE YOUR CODE HERE:\n",
    "    policy, value_func, num_pol_iter, num_val_iter, value_func_list = policy_iteration_sync(env, 0.9)\n",
    "    \n",
    "    return policy, value_func, num_pol_iter, num_val_iter, value_func_list\n",
    "    \n",
    "if __name__ == \"__main__\":\n",
    "    t = time.time()\n",
    "    policy, value_func, num_pol_iter, num_val_iter,  value_func_list= main()\n",
    "    elapsed = time.time() - t"
   ]
  },
  {
   "cell_type": "code",
   "execution_count": 7,
   "metadata": {},
   "outputs": [
    {
     "name": "stdout",
     "output_type": "stream",
     "text": [
      "Time taken =  0.0009958744049072266\n",
      "Policy improvement steps =  6\n",
      "Policy evaluation steps =  12\n"
     ]
    }
   ],
   "source": [
    "print('Time taken = ', elapsed)\n",
    "print('Policy improvement steps = ', num_pol_iter)\n",
    "print('Policy evaluation steps = ', num_val_iter)"
   ]
  },
  {
   "cell_type": "code",
   "execution_count": 11,
   "metadata": {},
   "outputs": [
    {
     "name": "stdout",
     "output_type": "stream",
     "text": [
      "Part B\n",
      "(16, 100) 6\n"
     ]
    },
    {
     "data": {
      "image/png": "[encoded data removed]",
      "text/plain": [
       "<Figure size 432x288 with 1 Axes>"
      ]
     },
     "metadata": {
      "needs_background": "light"
     },
     "output_type": "display_data"
    }
   ],
   "source": [
    "print('Part B')\n",
    "print(value_func_list.shape, num_pol_iter)\n",
    "for i in range(num_pol_iter):\n",
    "    plt.scatter(np.ones(env.nS)*i, value_func_list[:,i])\n",
    "if env.nS == 16:\n",
    "    plt.title('Value Function vs Number of Policy Iter (4x4)')\n",
    "    plt.xlabel('Number of Policy Iter')\n",
    "    plt.ylabel('Value Function')\n",
    "else:\n",
    "    plt.title('Value Function vs Number of Policy Iter (8x8)')\n",
    "    plt.xlabel('Number of Policy Iter')\n",
    "    plt.ylabel('Value Function')\n",
    "plt.grid()\n",
    "plt.show()"
   ]
  },
  {
   "cell_type": "code",
   "execution_count": 9,
   "metadata": {},
   "outputs": [],
   "source": [
    "import seaborn as sns"
   ]
  },
  {
   "cell_type": "code",
   "execution_count": 10,
   "metadata": {},
   "outputs": [
    {
     "data": {
      "image/png": "[encoded data removed]",
      "text/plain": [
       "<Figure size 432x288 with 2 Axes>"
      ]
     },
     "metadata": {
      "needs_background": "light"
     },
     "output_type": "display_data"
    }
   ],
   "source": [
    "ax = sns.heatmap(value_func_list[:,num_pol_iter].reshape(int(np.sqrt(env.nS)),int(np.sqrt(env.nS))))\n",
    "if env.nS==16:\n",
    "    plt.title('Heat Map (4x4)')\n",
    "else:\n",
    "    plt.title('Heat Map (8x8)')\n",
    "plt.show()\n",
    "pass"
   ]
  }
 ],
 "metadata": {
  "colab": {
   "collapsed_sections": [],
   "name": "q1.ipynb",
   "provenance": []
  },
  "kernelspec": {
   "display_name": "Python 3",
   "language": "python",
   "name": "python3"
  },
  "language_info": {
   "codemirror_mode": {
    "name": "ipython",
    "version": 3
   },
   "file_extension": ".py",
   "mimetype": "text/x-python",
   "name": "python",
   "nbconvert_exporter": "python",
   "pygments_lexer": "ipython3",
   "version": "3.6.8"
  }
 },
 "nbformat": 4,
 "nbformat_minor": 1
}
